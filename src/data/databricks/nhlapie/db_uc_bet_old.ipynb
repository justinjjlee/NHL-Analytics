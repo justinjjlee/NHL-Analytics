{
 "cells": [
  {
   "cell_type": "markdown",
   "metadata": {
    "application/vnd.databricks.v1+cell": {
     "cellMetadata": {},
     "inputWidgets": {},
     "nuid": "321a35fb-2647-4d79-8a9c-ff969a91097a",
     "showTitle": false,
     "tableResultSettingsMap": {},
     "title": ""
    }
   },
   "source": [
    "# Process old betting data (2009 ~ 2022)\n",
    "Process old betting data (2-way money line).\n",
    "\n",
    "Part of the 2023-2024 season data is incomplete.\n",
    "\n",
    "Because the analysis rarely revisit pre-2009, I don't merge the data."
   ]
  },
  {
   "cell_type": "code",
   "execution_count": 0,
   "metadata": {
    "application/vnd.databricks.v1+cell": {
     "cellMetadata": {
      "byteLimit": 2048000,
      "rowLimit": 10000
     },
     "inputWidgets": {},
     "nuid": "37f1ca46-53f3-4bbf-a6d8-7bb1f021df62",
     "showTitle": false,
     "tableResultSettingsMap": {},
     "title": ""
    }
   },
   "outputs": [],
   "source": [
    "import pandas as pd\n",
    "import numpy as np\n",
    "\n",
    "# pull old data\n",
    "df_old = pd.read_csv(\"/Volumes/nhl-databricks/data/betting/odds_past.csv\", encoding=\"utf-7\")\n",
    "\n",
    "df_old.head(5)"
   ]
  },
  {
   "cell_type": "markdown",
   "metadata": {
    "application/vnd.databricks.v1+cell": {
     "cellMetadata": {},
     "inputWidgets": {},
     "nuid": "9e8a86e6-3013-4e10-9b11-56d431eabcc3",
     "showTitle": false,
     "tableResultSettingsMap": {},
     "title": ""
    }
   },
   "source": [
    "Need to convert team tricode from the team name."
   ]
  },
  {
   "cell_type": "code",
   "execution_count": 0,
   "metadata": {
    "application/vnd.databricks.v1+cell": {
     "cellMetadata": {
      "byteLimit": 2048000,
      "rowLimit": 10000
     },
     "inputWidgets": {},
     "nuid": "e6cb9025-f3f3-4406-a9b1-075fb1a2b715",
     "showTitle": false,
     "tableResultSettingsMap": {},
     "title": ""
    }
   },
   "outputs": [],
   "source": [
    "teamname = np.sort(df_old.Team.unique())\n",
    "display(teamname)"
   ]
  },
  {
   "cell_type": "code",
   "execution_count": 0,
   "metadata": {
    "application/vnd.databricks.v1+cell": {
     "cellMetadata": {
      "byteLimit": 2048000,
      "rowLimit": 10000
     },
     "inputWidgets": {},
     "nuid": "f9679b9f-31c3-43a2-ac0a-d8338467ca5a",
     "showTitle": false,
     "tableResultSettingsMap": {
      "1": {
       "dataGridStateBlob": "{\"version\":1,\"tableState\":{\"columnPinning\":{\"left\":[\"#row_number#\"],\"right\":[]},\"columnSizing\":{},\"columnVisibility\":{}},\"settings\":{\"columns\":{}},\"syncTimestamp\":1759009576706}",
       "filterBlob": null,
       "queryPlanFiltersBlob": null,
       "tableResultIndex": 1
      }
     },
     "title": ""
    }
   },
   "outputs": [],
   "source": [
    "# Given the limited number of the team names, I just manually write out tricode\n",
    "match_tricode = [\n",
    "    'ANA', 'ARI', 'ARI', 'ATL', 'BOS', 'BUF',\n",
    "    'CAL', 'CAR', 'CHI', 'COL', 'CBJ', 'DAL',\n",
    "    'DET', 'EDM', 'FLA', 'LAK', 'LAK', \n",
    "    'MIN', 'MTL', 'NYI', 'NYR', 'NYI', 'NYR', 'NSH', 'NJD', 'NJD',\n",
    "    'OTT', 'PHI', 'ARI', 'PIT', 'SJS', 'SJS', 'SEA', 'SEA', 'SEA', \n",
    "    'STL', 'STL', 'TBL', 'TBL', 'TBL',\n",
    "    'TOR', 'VAN', 'VGK', 'WSH', 'WPG', 'WPG' \n",
    "]\n",
    "\n",
    "# Create matching dataframe\n",
    "match_df = pd.DataFrame({'Team': teamname, 'tricode': match_tricode})\n",
    "display(match_df)\n",
    "# Merge the two dataframes\n",
    "df_old = df_old.merge(match_df, on='Team', how='left')\n",
    "display(df_old)\n",
    "# Create a new"
   ]
  },
  {
   "cell_type": "code",
   "execution_count": 0,
   "metadata": {
    "application/vnd.databricks.v1+cell": {
     "cellMetadata": {
      "byteLimit": 2048000,
      "rowLimit": 10000
     },
     "inputWidgets": {},
     "nuid": "8db8ea23-64c2-4dbb-8836-f68a2f3f4685",
     "showTitle": false,
     "tableResultSettingsMap": {},
     "title": ""
    }
   },
   "outputs": [],
   "source": [
    "# If the Date column is length of three, need to add 1 to the year\n",
    "df_old['year'] = np.where(\n",
    "    df_old['Date'].astype(str).str.len() == 3, df_old['year'] + 1, df_old['year']\n",
    ")\n",
    "# Concatenate year and zero-padded Date (MMDD) columns\n",
    "df_old['currentOddsDate'] = (\n",
    "    df_old['year'].astype(str) +\n",
    "    df_old['Date'].astype(str).str.zfill(4)\n",
    ")\n",
    "# Parse the combined string as a datetime, coercing errors to NaT\n",
    "df_old['currentOddsDate'] = pd.to_datetime(\n",
    "    df_old['currentOddsDate'],\n",
    "    format='%Y%m%d',\n",
    "    errors='coerce'\n",
    ")\n",
    "df_old.head(5)"
   ]
  },
  {
   "cell_type": "code",
   "execution_count": 0,
   "metadata": {
    "application/vnd.databricks.v1+cell": {
     "cellMetadata": {
      "byteLimit": 2048000,
      "rowLimit": 10000
     },
     "inputWidgets": {},
     "nuid": "f3a07796-c5c8-4b87-976c-f04beefda9f6",
     "showTitle": false,
     "tableResultSettingsMap": {
      "0": {
       "dataGridStateBlob": "{\"version\":1,\"tableState\":{\"columnPinning\":{\"left\":[\"#row_number#\"],\"right\":[]},\"columnSizing\":{},\"columnVisibility\":{}},\"settings\":{\"columns\":{}},\"syncTimestamp\":1759010944367}",
       "filterBlob": null,
       "queryPlanFiltersBlob": null,
       "tableResultIndex": 0
      }
     },
     "title": ""
    }
   },
   "outputs": [],
   "source": [
    "# Convert Final to float\n",
    "df_old['Final'] = pd.to_numeric(\n",
    "    df_old['Final'],\n",
    "    errors='coerce'\n",
    ")\n",
    "df_old['Final'] = df_old['Final'].fillna(0).astype(int)\n",
    "display(df_old.tail(5))"
   ]
  },
  {
   "cell_type": "code",
   "execution_count": 0,
   "metadata": {
    "application/vnd.databricks.v1+cell": {
     "cellMetadata": {
      "byteLimit": 2048000,
      "rowLimit": 10000
     },
     "inputWidgets": {},
     "nuid": "b6a063bc-9cde-4d92-a44c-7b3e0581d3ed",
     "showTitle": false,
     "tableResultSettingsMap": {},
     "title": ""
    }
   },
   "outputs": [],
   "source": [
    "# split the dataframe into two, odd rows and even rows, in order to get the home and away team\n",
    "df_odd = df_old.iloc[0::2]\n",
    "df_even = df_old.iloc[1::2]\n",
    "\n",
    "df_odd = df_odd[['tricode', 'Final', 'Close']]\n",
    "df_odd.columns = ['tricode_against', 'metric_score_against', 'away_odds_value']\n",
    "\n",
    "df_even = df_even[['currentOddsDate', 'tricode', 'Final', 'Close']]\n",
    "df_even.columns =  ['date', 'tricode_for', 'metric_score_for', 'home_odds_value']"
   ]
  },
  {
   "cell_type": "code",
   "execution_count": 0,
   "metadata": {
    "application/vnd.databricks.v1+cell": {
     "cellMetadata": {
      "byteLimit": 2048000,
      "rowLimit": 10000
     },
     "inputWidgets": {},
     "nuid": "5067d33d-2178-45ab-9e92-c2ca2236df1d",
     "showTitle": false,
     "tableResultSettingsMap": {
      "0": {
       "dataGridStateBlob": "{\"version\":1,\"tableState\":{\"columnPinning\":{\"left\":[\"#row_number#\"],\"right\":[]},\"columnSizing\":{},\"columnVisibility\":{}},\"settings\":{\"columns\":{}},\"syncTimestamp\":1759010655184}",
       "filterBlob": "{\"version\":1,\"filterGroups\":[{\"enabled\":true,\"filterGroupId\":\"fg_c6cf7656\",\"op\":\"OR\",\"filters\":[{\"filterId\":\"f_d93a0e10\",\"enabled\":true,\"columnId\":\"date\",\"dataType\":\"datetime\",\"filterType\":\"eq\",\"filterValue\":null,\"filterConfig\":{}}],\"local\":false,\"updatedAt\":1759014475329}],\"syncTimestamp\":1759014475329}",
       "queryPlanFiltersBlob": "[]",
       "tableResultIndex": 0
      }
     },
     "title": ""
    }
   },
   "outputs": [
    {
     "output_type": "display_data",
     "data": {
      "text/plain": [
       "Databricks visualization. Run in Databricks to view."
      ]
     },
     "metadata": {
      "application/vnd.databricks.v1.subcommand+json": {
       "baseErrorDetails": null,
       "bindings": {},
       "collapsed": false,
       "command": "%python\n__backend_agg_display_orig = display\n__backend_agg_dfs = []\ndef __backend_agg_display_new(df):\n    __backend_agg_df_modules = [\"pandas.core.frame\", \"databricks.koalas.frame\", \"pyspark.sql.dataframe\", \"pyspark.pandas.frame\", \"pyspark.sql.connect.dataframe\"]\n    if (type(df).__module__ in __backend_agg_df_modules and type(df).__name__ == 'DataFrame') or isinstance(df, list):\n        __backend_agg_dfs.append(df)\n\ndisplay = __backend_agg_display_new\n\ndef __backend_agg_user_code_fn():\n    import base64\n    exec(base64.standard_b64decode(\"ZGZfb2RkID0gZGZfb2RkLnJlc2V0X2luZGV4KGRyb3A9VHJ1ZSkKZGZfZXZlbiA9IGRmX2V2ZW4ucmVzZXRfaW5kZXgoZHJvcD1UcnVlKQpkZl9vZGRfY2xlYW5lZF9vbGQgPSBwZC5jb25jYXQoW2RmX29kZCwgZGZfZXZlbl0sIGF4aXM9MSkKZGlzcGxheShkZl9vZGRfY2xlYW5lZF9vbGQp\").decode())\n\ntry:\n    # run user code\n    __backend_agg_user_code_fn()\n\n    #reset display function\n    display = __backend_agg_display_orig\n\n    if len(__backend_agg_dfs) > 0:\n        # create a temp view\n        if type(__backend_agg_dfs[0]).__module__ == \"databricks.koalas.frame\":\n            # koalas dataframe\n            __backend_agg_dfs[0].to_spark().createOrReplaceTempView(\"DatabricksView5776459\")\n        elif type(__backend_agg_dfs[0]).__module__ == \"pandas.core.frame\" or isinstance(__backend_agg_dfs[0], list):\n            # pandas dataframe\n            spark.createDataFrame(__backend_agg_dfs[0]).createOrReplaceTempView(\"DatabricksView5776459\")\n        else:\n            __backend_agg_dfs[0].createOrReplaceTempView(\"DatabricksView5776459\")\n        #run backend agg\n        display(spark.sql(\"\"\"WITH q AS (select * from DatabricksView5776459) SELECT `date`,COUNT(*) `column_4bf9c861376` FROM q GROUP BY `date`\"\"\"))\n    else:\n        displayHTML(\"dataframe no longer exists. If you're using dataframe.display(), use display(dataframe) instead.\")\n\n\nfinally:\n    spark.sql(\"drop view if exists DatabricksView5776459\")\n    display = __backend_agg_display_orig\n    del __backend_agg_display_new\n    del __backend_agg_display_orig\n    del __backend_agg_dfs\n    del __backend_agg_user_code_fn\n\n",
       "commandTitle": "Visualization 1",
       "commandType": "auto",
       "commandVersion": 0,
       "commentThread": [],
       "commentsVisible": false,
       "contentSha256Hex": null,
       "customPlotOptions": {
        "redashChart": [
         {
          "key": "type",
          "value": "CHART"
         },
         {
          "key": "options",
          "value": {
           "alignYAxesAtZero": true,
           "coefficient": 1,
           "columnConfigurationMap": {
            "x": {
             "column": "date",
             "id": "column_4bf9c861373"
            },
            "y": [
             {
              "column": "*",
              "id": "column_4bf9c861376",
              "transform": "COUNT"
             }
            ]
           },
           "dateTimeFormat": "DD/MM/YYYY HH:mm",
           "direction": {
            "type": "counterclockwise"
           },
           "error_y": {
            "type": "data",
            "visible": true
           },
           "globalSeriesType": "column",
           "isAggregationOn": true,
           "legend": {
            "traceorder": "normal"
           },
           "missingValuesAsZero": true,
           "numberFormat": "0,0.[00000]",
           "percentFormat": "0[.]00%",
           "series": {
            "error_y": {
             "type": "data",
             "visible": true
            },
            "stacking": null
           },
           "seriesOptions": {
            "column_4bf9c861376": {
             "type": "column",
             "yAxis": 0
            }
           },
           "showDataLabels": false,
           "sizemode": "diameter",
           "sortX": true,
           "sortY": true,
           "swappedAxes": false,
           "textFormat": "",
           "useAggregationsUi": true,
           "valuesOptions": {},
           "version": 2,
           "xAxis": {
            "labels": {
             "enabled": true
            },
            "type": "-"
           },
           "yAxis": [
            {
             "type": "-"
            },
            {
             "opposite": true,
             "type": "-"
            }
           ]
          }
         }
        ]
       },
       "datasetPreviewNameToCmdIdMap": {},
       "diffDeletes": [],
       "diffInserts": [],
       "displayType": "redashChart",
       "error": null,
       "errorDetails": null,
       "errorSummary": null,
       "errorTraceType": null,
       "finishTime": 0,
       "globalVars": {},
       "guid": "",
       "height": "auto",
       "hideCommandCode": false,
       "hideCommandResult": false,
       "iPythonMetadata": null,
       "inputWidgets": {},
       "isLockedInExamMode": false,
       "latestAssumeRoleInfo": null,
       "latestUser": "a user",
       "latestUserId": null,
       "listResultMetadata": null,
       "metadata": {
        "byteLimit": 2048000,
        "rowLimit": 10000
       },
       "nuid": "f10ef917-09b0-4837-81fe-1e43f95ecf35",
       "origId": 0,
       "parentHierarchy": [],
       "pivotAggregation": null,
       "pivotColumns": null,
       "position": 5.0,
       "resultDbfsErrorMessage": null,
       "resultDbfsStatus": "INLINED_IN_TREE",
       "results": null,
       "showCommandTitle": false,
       "startTime": 0,
       "state": "input",
       "streamStates": {},
       "subcommandOptions": {
        "queryPlan": {
         "groups": [
          {
           "column": "date",
           "type": "column"
          }
         ],
         "selects": [
          {
           "column": "date",
           "type": "column"
          },
          {
           "alias": "column_4bf9c861376",
           "args": [
            {
             "column": "*",
             "type": "column"
            }
           ],
           "function": "COUNT",
           "type": "function"
          }
         ]
        }
       },
       "submitTime": 0,
       "subtype": "tableResultSubCmd.visualization",
       "tableResultIndex": 0,
       "tableResultSettingsMap": {},
       "useConsistentColors": false,
       "version": "CommandV1",
       "width": "auto",
       "workflows": null,
       "xColumns": null,
       "yColumns": null
      }
     },
     "output_type": "display_data"
    }
   ],
   "source": [
    "df_odd = df_odd.reset_index(drop=True)\n",
    "df_even = df_even.reset_index(drop=True)\n",
    "df_odd_cleaned_old = pd.concat([df_odd, df_even], axis=1)\n",
    "display(df_odd_cleaned_old)"
   ]
  },
  {
   "cell_type": "markdown",
   "metadata": {
    "application/vnd.databricks.v1+cell": {
     "cellMetadata": {},
     "inputWidgets": {},
     "nuid": "67ceb395-5c17-4432-bd33-f10be44ada23",
     "showTitle": false,
     "tableResultSettingsMap": {},
     "title": ""
    }
   },
   "source": [
    "Join with actual game records"
   ]
  },
  {
   "cell_type": "code",
   "execution_count": 0,
   "metadata": {
    "application/vnd.databricks.v1+cell": {
     "cellMetadata": {
      "byteLimit": 2048000,
      "rowLimit": 10000
     },
     "inputWidgets": {},
     "nuid": "d1bca9dd-3ba3-4865-8847-19c494839c71",
     "showTitle": false,
     "tableResultSettingsMap": {
      "0": {
       "dataGridStateBlob": "{\"version\":1,\"tableState\":{\"columnPinning\":{\"left\":[\"#row_number#\"],\"right\":[]},\"columnSizing\":{},\"columnVisibility\":{}},\"settings\":{\"columns\":{}},\"syncTimestamp\":1759011014956}",
       "filterBlob": null,
       "queryPlanFiltersBlob": null,
       "tableResultIndex": 0
      }
     },
     "title": ""
    }
   },
   "outputs": [
    {
     "output_type": "display_data",
     "data": {
      "text/plain": [
       "Databricks visualization. Run in Databricks to view."
      ]
     },
     "metadata": {
      "application/vnd.databricks.v1.subcommand+json": {
       "baseErrorDetails": null,
       "bindings": {},
       "collapsed": false,
       "command": "%python\n__backend_agg_display_orig = display\n__backend_agg_dfs = []\ndef __backend_agg_display_new(df):\n    __backend_agg_df_modules = [\"pandas.core.frame\", \"databricks.koalas.frame\", \"pyspark.sql.dataframe\", \"pyspark.pandas.frame\", \"pyspark.sql.connect.dataframe\"]\n    if (type(df).__module__ in __backend_agg_df_modules and type(df).__name__ == 'DataFrame') or isinstance(df, list):\n        __backend_agg_dfs.append(df)\n\ndisplay = __backend_agg_display_new\n\ndef __backend_agg_user_code_fn():\n    import base64\n    exec(base64.standard_b64decode(\"ZGZfZ2FtZSA9IFtdCmZvciBpdGVyX3lyIGluIHJhbmdlKDIwMTEsIDIwMjMpOgogICAgZGZfZ2FtZS5hcHBlbmQoCiAgICAgICAgcGQucmVhZF9jc3YoZicvVm9sdW1lcy9uaGwtZGF0YWJyaWNrcy9kYXRhL2JveC97aXRlcl95cn1fZ2FtZWxpc3QuY3N2JykKICAgICkKZGZfZ2FtZSA9IHBkLmNvbmNhdChkZl9nYW1lLCBheGlzPTApCmRmX2dhbWUgPSBkZl9nYW1lLnJlc2V0X2luZGV4KGRyb3A9VHJ1ZSkKCiMgQ29udmVydCAnZGF0ZScgY29sdW1uIHRvIGRhdGV0aW1lCmRmX2dhbWVbJ2RhdGUnXSA9IHBkLnRvX2RhdGV0aW1lKGRmX2dhbWVbJ2RhdGUnXSkKCiMgQ2hhbmdlIG1ldHJpYyBzY29yZSBmb3IgYW5kIGFnYWluc3QgdG8gaW50ZWdlcgpkZl9nYW1lWydtZXRyaWNfc2NvcmVfZm9yJ10gPSBkZl9nYW1lWydtZXRyaWNfc2NvcmVfZm9yJ10uYXN0eXBlKGludCkKZGZfZ2FtZVsnbWV0cmljX3Njb3JlX2FnYWluc3QnXSA9IGRmX2dhbWVbJ21ldHJpY19zY29yZV9hZ2FpbnN0J10uYXN0eXBlKGludCkKCmRpc3BsYXkoZGZfZ2FtZSk=\").decode())\n\ntry:\n    # run user code\n    __backend_agg_user_code_fn()\n\n    #reset display function\n    display = __backend_agg_display_orig\n\n    if len(__backend_agg_dfs) > 0:\n        # create a temp view\n        if type(__backend_agg_dfs[0]).__module__ == \"databricks.koalas.frame\":\n            # koalas dataframe\n            __backend_agg_dfs[0].to_spark().createOrReplaceTempView(\"DatabricksViewa2a085c\")\n        elif type(__backend_agg_dfs[0]).__module__ == \"pandas.core.frame\" or isinstance(__backend_agg_dfs[0], list):\n            # pandas dataframe\n            spark.createDataFrame(__backend_agg_dfs[0]).createOrReplaceTempView(\"DatabricksViewa2a085c\")\n        else:\n            __backend_agg_dfs[0].createOrReplaceTempView(\"DatabricksViewa2a085c\")\n        #run backend agg\n        display(spark.sql(\"\"\"WITH q AS (select * from DatabricksViewa2a085c) SELECT `date`,COUNT(*) `column_4bf9c861381` FROM q GROUP BY `date`\"\"\"))\n    else:\n        displayHTML(\"dataframe no longer exists. If you're using dataframe.display(), use display(dataframe) instead.\")\n\n\nfinally:\n    spark.sql(\"drop view if exists DatabricksViewa2a085c\")\n    display = __backend_agg_display_orig\n    del __backend_agg_display_new\n    del __backend_agg_display_orig\n    del __backend_agg_dfs\n    del __backend_agg_user_code_fn\n\n",
       "commandTitle": "Visualization 1",
       "commandType": "auto",
       "commandVersion": 0,
       "commentThread": [],
       "commentsVisible": false,
       "contentSha256Hex": null,
       "customPlotOptions": {
        "redashChart": [
         {
          "key": "type",
          "value": "CHART"
         },
         {
          "key": "options",
          "value": {
           "alignYAxesAtZero": true,
           "coefficient": 1,
           "columnConfigurationMap": {
            "x": {
             "column": "date",
             "id": "column_4bf9c861378"
            },
            "y": [
             {
              "column": "*",
              "id": "column_4bf9c861381",
              "transform": "COUNT"
             }
            ]
           },
           "dateTimeFormat": "DD/MM/YYYY HH:mm",
           "direction": {
            "type": "counterclockwise"
           },
           "error_y": {
            "type": "data",
            "visible": true
           },
           "globalSeriesType": "column",
           "isAggregationOn": true,
           "legend": {
            "traceorder": "normal"
           },
           "missingValuesAsZero": true,
           "numberFormat": "0,0.[00000]",
           "percentFormat": "0[.]00%",
           "series": {
            "error_y": {
             "type": "data",
             "visible": true
            },
            "stacking": null
           },
           "seriesOptions": {
            "column_4bf9c861381": {
             "type": "column",
             "yAxis": 0
            }
           },
           "showDataLabels": false,
           "sizemode": "diameter",
           "sortX": true,
           "sortY": true,
           "swappedAxes": false,
           "textFormat": "",
           "useAggregationsUi": true,
           "valuesOptions": {},
           "version": 2,
           "xAxis": {
            "labels": {
             "enabled": true
            },
            "type": "-"
           },
           "yAxis": [
            {
             "type": "-"
            },
            {
             "opposite": true,
             "type": "-"
            }
           ]
          }
         }
        ]
       },
       "datasetPreviewNameToCmdIdMap": {},
       "diffDeletes": [],
       "diffInserts": [],
       "displayType": "redashChart",
       "error": null,
       "errorDetails": null,
       "errorSummary": null,
       "errorTraceType": null,
       "finishTime": 0,
       "globalVars": {},
       "guid": "",
       "height": "auto",
       "hideCommandCode": false,
       "hideCommandResult": false,
       "iPythonMetadata": null,
       "inputWidgets": {},
       "isLockedInExamMode": false,
       "latestAssumeRoleInfo": null,
       "latestUser": "a user",
       "latestUserId": null,
       "listResultMetadata": null,
       "metadata": {
        "byteLimit": 2048000,
        "rowLimit": 10000
       },
       "nuid": "c7f44ea8-cde6-44f2-ba0c-c0bb60a512c1",
       "origId": 0,
       "parentHierarchy": [],
       "pivotAggregation": null,
       "pivotColumns": null,
       "position": 7.0,
       "resultDbfsErrorMessage": null,
       "resultDbfsStatus": "INLINED_IN_TREE",
       "results": null,
       "showCommandTitle": false,
       "startTime": 0,
       "state": "input",
       "streamStates": {},
       "subcommandOptions": {
        "queryPlan": {
         "groups": [
          {
           "column": "date",
           "type": "column"
          }
         ],
         "selects": [
          {
           "column": "date",
           "type": "column"
          },
          {
           "alias": "column_4bf9c861381",
           "args": [
            {
             "column": "*",
             "type": "column"
            }
           ],
           "function": "COUNT",
           "type": "function"
          }
         ]
        }
       },
       "submitTime": 0,
       "subtype": "tableResultSubCmd.visualization",
       "tableResultIndex": 0,
       "tableResultSettingsMap": {},
       "useConsistentColors": false,
       "version": "CommandV1",
       "width": "auto",
       "workflows": null,
       "xColumns": null,
       "yColumns": null
      }
     },
     "output_type": "display_data"
    }
   ],
   "source": [
    "df_game = []\n",
    "for iter_yr in range(2011, 2023):\n",
    "    df_game.append(\n",
    "        pd.read_csv(f'/Volumes/nhl-databricks/data/box/{iter_yr}_gamelist.csv')\n",
    "    )\n",
    "df_game = pd.concat(df_game, axis=0)\n",
    "df_game = df_game.reset_index(drop=True)\n",
    "\n",
    "# Convert 'date' column to datetime\n",
    "df_game['date'] = pd.to_datetime(df_game['date'])\n",
    "\n",
    "# Change metric score for and against to integer\n",
    "df_game['metric_score_for'] = df_game['metric_score_for'].astype(int)\n",
    "df_game['metric_score_against'] = df_game['metric_score_against'].astype(int)\n",
    "\n",
    "display(df_game)"
   ]
  },
  {
   "cell_type": "code",
   "execution_count": 0,
   "metadata": {
    "application/vnd.databricks.v1+cell": {
     "cellMetadata": {
      "byteLimit": 2048000,
      "rowLimit": 10000
     },
     "inputWidgets": {},
     "nuid": "cd14cac3-92ef-4e30-ae01-82e3ac10f0a7",
     "showTitle": false,
     "tableResultSettingsMap": {},
     "title": ""
    }
   },
   "outputs": [
    {
     "output_type": "display_data",
     "data": {
      "text/plain": [
       "Databricks visualization. Run in Databricks to view."
      ]
     },
     "metadata": {
      "application/vnd.databricks.v1.subcommand+json": {
       "baseErrorDetails": null,
       "bindings": {},
       "collapsed": false,
       "command": "%python\n__backend_agg_display_orig = display\n__backend_agg_dfs = []\ndef __backend_agg_display_new(df):\n    __backend_agg_df_modules = [\"pandas.core.frame\", \"databricks.koalas.frame\", \"pyspark.sql.dataframe\", \"pyspark.pandas.frame\", \"pyspark.sql.connect.dataframe\"]\n    if (type(df).__module__ in __backend_agg_df_modules and type(df).__name__ == 'DataFrame') or isinstance(df, list):\n        __backend_agg_dfs.append(df)\n\ndisplay = __backend_agg_display_new\n\ndef __backend_agg_user_code_fn():\n    import base64\n    exec(base64.standard_b64decode(\"IyBqb2luIHdpdGggdGhlIG9kZHMgZGF0YQpkZl9tZXJnZSA9IGRmX29kZF9jbGVhbmVkX29sZC5tZXJnZSgKICAgIGRmX2dhbWUsIAogICAgb249WwogICAgICAgICdkYXRlJywKICAgICAgICAndHJpY29kZV9mb3InLCAndHJpY29kZV9hZ2FpbnN0JywKICAgICAgICAnbWV0cmljX3Njb3JlX2ZvcicsICdtZXRyaWNfc2NvcmVfYWdhaW5zdCcKICAgIF0sIGhvdz0naW5uZXInKQpkZl9tZXJnZS5kaXNwbGF5KCk=\").decode())\n\ntry:\n    # run user code\n    __backend_agg_user_code_fn()\n\n    #reset display function\n    display = __backend_agg_display_orig\n\n    if len(__backend_agg_dfs) > 0:\n        # create a temp view\n        if type(__backend_agg_dfs[0]).__module__ == \"databricks.koalas.frame\":\n            # koalas dataframe\n            __backend_agg_dfs[0].to_spark().createOrReplaceTempView(\"DatabricksView53e5f59\")\n        elif type(__backend_agg_dfs[0]).__module__ == \"pandas.core.frame\" or isinstance(__backend_agg_dfs[0], list):\n            # pandas dataframe\n            spark.createDataFrame(__backend_agg_dfs[0]).createOrReplaceTempView(\"DatabricksView53e5f59\")\n        else:\n            __backend_agg_dfs[0].createOrReplaceTempView(\"DatabricksView53e5f59\")\n        #run backend agg\n        display(spark.sql(\"\"\"WITH q AS (select * from DatabricksView53e5f59) SELECT `date`,COUNT(*) `column_4bf9c861386` FROM q GROUP BY `date`\"\"\"))\n    else:\n        displayHTML(\"dataframe no longer exists. If you're using dataframe.display(), use display(dataframe) instead.\")\n\n\nfinally:\n    spark.sql(\"drop view if exists DatabricksView53e5f59\")\n    display = __backend_agg_display_orig\n    del __backend_agg_display_new\n    del __backend_agg_display_orig\n    del __backend_agg_dfs\n    del __backend_agg_user_code_fn\n\n",
       "commandTitle": "Visualization 1",
       "commandType": "auto",
       "commandVersion": 0,
       "commentThread": [],
       "commentsVisible": false,
       "contentSha256Hex": null,
       "customPlotOptions": {
        "redashChart": [
         {
          "key": "type",
          "value": "CHART"
         },
         {
          "key": "options",
          "value": {
           "alignYAxesAtZero": true,
           "coefficient": 1,
           "columnConfigurationMap": {
            "x": {
             "column": "date",
             "id": "column_4bf9c861383"
            },
            "y": [
             {
              "column": "*",
              "id": "column_4bf9c861386",
              "transform": "COUNT"
             }
            ]
           },
           "dateTimeFormat": "DD/MM/YYYY HH:mm",
           "direction": {
            "type": "counterclockwise"
           },
           "error_y": {
            "type": "data",
            "visible": true
           },
           "globalSeriesType": "column",
           "isAggregationOn": true,
           "legend": {
            "traceorder": "normal"
           },
           "missingValuesAsZero": true,
           "numberFormat": "0,0.[00000]",
           "percentFormat": "0[.]00%",
           "series": {
            "error_y": {
             "type": "data",
             "visible": true
            },
            "stacking": null
           },
           "seriesOptions": {
            "column_4bf9c861386": {
             "type": "column",
             "yAxis": 0
            }
           },
           "showDataLabels": false,
           "sizemode": "diameter",
           "sortX": true,
           "sortY": true,
           "swappedAxes": false,
           "textFormat": "",
           "useAggregationsUi": true,
           "valuesOptions": {},
           "version": 2,
           "xAxis": {
            "labels": {
             "enabled": true
            },
            "type": "-"
           },
           "yAxis": [
            {
             "type": "-"
            },
            {
             "opposite": true,
             "type": "-"
            }
           ]
          }
         }
        ]
       },
       "datasetPreviewNameToCmdIdMap": {},
       "diffDeletes": [],
       "diffInserts": [],
       "displayType": "redashChart",
       "error": null,
       "errorDetails": null,
       "errorSummary": null,
       "errorTraceType": null,
       "finishTime": 0,
       "globalVars": {},
       "guid": "",
       "height": "auto",
       "hideCommandCode": false,
       "hideCommandResult": false,
       "iPythonMetadata": null,
       "inputWidgets": {},
       "isLockedInExamMode": false,
       "latestAssumeRoleInfo": null,
       "latestUser": "a user",
       "latestUserId": null,
       "listResultMetadata": null,
       "metadata": {
        "byteLimit": 2048000,
        "rowLimit": 10000
       },
       "nuid": "faee9520-2f47-4bad-94e4-b29e2f358d47",
       "origId": 0,
       "parentHierarchy": [],
       "pivotAggregation": null,
       "pivotColumns": null,
       "position": 8.0,
       "resultDbfsErrorMessage": null,
       "resultDbfsStatus": "INLINED_IN_TREE",
       "results": null,
       "showCommandTitle": false,
       "startTime": 0,
       "state": "input",
       "streamStates": {},
       "subcommandOptions": {
        "queryPlan": {
         "groups": [
          {
           "column": "date",
           "type": "column"
          }
         ],
         "selects": [
          {
           "column": "date",
           "type": "column"
          },
          {
           "alias": "column_4bf9c861386",
           "args": [
            {
             "column": "*",
             "type": "column"
            }
           ],
           "function": "COUNT",
           "type": "function"
          }
         ]
        }
       },
       "submitTime": 0,
       "subtype": "tableResultSubCmd.visualization",
       "tableResultIndex": 0,
       "tableResultSettingsMap": {},
       "useConsistentColors": false,
       "version": "CommandV1",
       "width": "auto",
       "workflows": null,
       "xColumns": null,
       "yColumns": null
      }
     },
     "output_type": "display_data"
    }
   ],
   "source": [
    "# join with the odds data\n",
    "df_merge = df_odd_cleaned_old.merge(\n",
    "    df_game, \n",
    "    on=[\n",
    "        'date',\n",
    "        'tricode_for', 'tricode_against',\n",
    "        'metric_score_for', 'metric_score_against'\n",
    "    ], how='inner')\n",
    "df_merge.display()"
   ]
  },
  {
   "cell_type": "code",
   "execution_count": 0,
   "metadata": {
    "application/vnd.databricks.v1+cell": {
     "cellMetadata": {
      "byteLimit": 2048000,
      "rowLimit": 10000
     },
     "inputWidgets": {},
     "nuid": "d0bf230e-1af1-4a0b-aa76-a1c6702b7ef0",
     "showTitle": false,
     "tableResultSettingsMap": {},
     "title": ""
    }
   },
   "outputs": [],
   "source": [
    "df_legacy = df_merge[\n",
    "    [\n",
    "        'gameid', 'time_start', 'tricode_for', 'tricode_against', \n",
    "        'home_odds_value', 'away_odds_value', 'metric_score_for', 'metric_score_against',\n",
    "        'period_ending', 'tricode_winteam'\n",
    "    ]\n",
    "]"
   ]
  },
  {
   "cell_type": "markdown",
   "metadata": {
    "application/vnd.databricks.v1+cell": {
     "cellMetadata": {},
     "inputWidgets": {},
     "nuid": "b756c10b-d1e7-4c7d-bad4-d794bd691bd4",
     "showTitle": false,
     "tableResultSettingsMap": {},
     "title": ""
    }
   },
   "source": [
    "# Add the latest data"
   ]
  },
  {
   "cell_type": "code",
   "execution_count": 0,
   "metadata": {
    "application/vnd.databricks.v1+cell": {
     "cellMetadata": {
      "byteLimit": 2048000,
      "rowLimit": 10000
     },
     "inputWidgets": {},
     "nuid": "da4c43e3-97b1-404a-9176-f486dcfea5ac",
     "showTitle": false,
     "tableResultSettingsMap": {
      "0": {
       "dataGridStateBlob": "{\"version\":1,\"tableState\":{\"columnPinning\":{\"left\":[\"#row_number#\"],\"right\":[]},\"columnSizing\":{},\"columnVisibility\":{}},\"settings\":{\"columns\":{\"homeTeam.logo\":{\"format\":{\"preset\":\"string-preset-url\"}},\"awayTeam.logo\":{\"format\":{\"preset\":\"string-preset-url\"}}}},\"syncTimestamp\":1759015748179}",
       "filterBlob": null,
       "queryPlanFiltersBlob": null,
       "tableResultIndex": 0
      }
     },
     "title": ""
    }
   },
   "outputs": [
    {
     "output_type": "display_data",
     "data": {
      "text/plain": [
       "Databricks visualization. Run in Databricks to view."
      ]
     },
     "metadata": {
      "application/vnd.databricks.v1.subcommand+json": {
       "baseErrorDetails": null,
       "bindings": {},
       "collapsed": false,
       "command": "%python\n__backend_agg_display_orig = display\n__backend_agg_dfs = []\ndef __backend_agg_display_new(df):\n    __backend_agg_df_modules = [\"pandas.core.frame\", \"databricks.koalas.frame\", \"pyspark.sql.dataframe\", \"pyspark.pandas.frame\", \"pyspark.sql.connect.dataframe\"]\n    if (type(df).__module__ in __backend_agg_df_modules and type(df).__name__ == 'DataFrame') or isinstance(df, list):\n        __backend_agg_dfs.append(df)\n\ndisplay = __backend_agg_display_new\n\ndef __backend_agg_user_code_fn():\n    import base64\n    exec(base64.standard_b64decode(\"ZGZfMjAyNCA9IHBkLnJlYWRfY3N2KCcvVm9sdW1lcy9uaGwtZGF0YWJyaWNrcy9kYXRhL2JldHRpbmcvMjAyNF9vZGRzLmNzdicpCiMgY29sdW1uIHJlbmFtZSBnYW1lSWQgdG8gZ2FtZWlkCmRmXzIwMjQucmVuYW1lKGNvbHVtbnM9eydnYW1lSWQnOiAnZ2FtZWlkJ30sIGlucGxhY2U9VHJ1ZSkKIyBDdXJyZW50b2Rkc2RhdGUgdG8gZGF0ZXRpbWUKZGZfMjAyNFsnY3VycmVudE9kZHNEYXRlJ10gPSBwZC50b19kYXRldGltZShkZl8yMDI0WydjdXJyZW50T2Rkc0RhdGUnXSkKZGZfMjAyNC5kaXNwbGF5KCk=\").decode())\n\ntry:\n    # run user code\n    __backend_agg_user_code_fn()\n\n    #reset display function\n    display = __backend_agg_display_orig\n\n    if len(__backend_agg_dfs) > 0:\n        # create a temp view\n        if type(__backend_agg_dfs[0]).__module__ == \"databricks.koalas.frame\":\n            # koalas dataframe\n            __backend_agg_dfs[0].to_spark().createOrReplaceTempView(\"DatabricksViewd7a389a\")\n        elif type(__backend_agg_dfs[0]).__module__ == \"pandas.core.frame\" or isinstance(__backend_agg_dfs[0], list):\n            # pandas dataframe\n            spark.createDataFrame(__backend_agg_dfs[0]).createOrReplaceTempView(\"DatabricksViewd7a389a\")\n        else:\n            __backend_agg_dfs[0].createOrReplaceTempView(\"DatabricksViewd7a389a\")\n        #run backend agg\n        display(spark.sql(\"\"\"WITH q AS (select * from DatabricksViewd7a389a) SELECT `currentOddsDate`,COUNT(*) `column_4bf9c861409` FROM q GROUP BY `currentOddsDate`\"\"\"))\n    else:\n        displayHTML(\"dataframe no longer exists. If you're using dataframe.display(), use display(dataframe) instead.\")\n\n\nfinally:\n    spark.sql(\"drop view if exists DatabricksViewd7a389a\")\n    display = __backend_agg_display_orig\n    del __backend_agg_display_new\n    del __backend_agg_display_orig\n    del __backend_agg_dfs\n    del __backend_agg_user_code_fn\n\n",
       "commandTitle": "Visualization 1",
       "commandType": "auto",
       "commandVersion": 0,
       "commentThread": [],
       "commentsVisible": false,
       "contentSha256Hex": null,
       "customPlotOptions": {
        "redashChart": [
         {
          "key": "type",
          "value": "CHART"
         },
         {
          "key": "options",
          "value": {
           "alignYAxesAtZero": true,
           "coefficient": 1,
           "columnConfigurationMap": {
            "x": {
             "column": "currentOddsDate",
             "id": "column_4bf9c861406"
            },
            "y": [
             {
              "column": "*",
              "id": "column_4bf9c861409",
              "transform": "COUNT"
             }
            ]
           },
           "dateTimeFormat": "DD/MM/YYYY HH:mm",
           "direction": {
            "type": "counterclockwise"
           },
           "error_y": {
            "type": "data",
            "visible": true
           },
           "globalSeriesType": "column",
           "isAggregationOn": true,
           "legend": {
            "traceorder": "normal"
           },
           "missingValuesAsZero": true,
           "numberFormat": "0,0.[00000]",
           "percentFormat": "0[.]00%",
           "series": {
            "error_y": {
             "type": "data",
             "visible": true
            },
            "stacking": null
           },
           "seriesOptions": {
            "column_4bf9c861409": {
             "type": "column",
             "yAxis": 0
            }
           },
           "showDataLabels": false,
           "sizemode": "diameter",
           "sortX": true,
           "sortY": true,
           "swappedAxes": false,
           "textFormat": "",
           "useAggregationsUi": true,
           "valuesOptions": {},
           "version": 2,
           "xAxis": {
            "labels": {
             "enabled": true
            },
            "type": "-"
           },
           "yAxis": [
            {
             "type": "-"
            },
            {
             "opposite": true,
             "type": "-"
            }
           ]
          }
         }
        ]
       },
       "datasetPreviewNameToCmdIdMap": {},
       "diffDeletes": [],
       "diffInserts": [],
       "displayType": "redashChart",
       "error": null,
       "errorDetails": null,
       "errorSummary": null,
       "errorTraceType": null,
       "finishTime": 0,
       "globalVars": {},
       "guid": "",
       "height": "auto",
       "hideCommandCode": false,
       "hideCommandResult": false,
       "iPythonMetadata": null,
       "inputWidgets": {},
       "isLockedInExamMode": false,
       "latestAssumeRoleInfo": null,
       "latestUser": "a user",
       "latestUserId": null,
       "listResultMetadata": null,
       "metadata": {},
       "nuid": "cad325df-3b27-4fb3-9476-b6457e8e8b65",
       "origId": 0,
       "parentHierarchy": [],
       "pivotAggregation": null,
       "pivotColumns": null,
       "position": 11.0,
       "resultDbfsErrorMessage": null,
       "resultDbfsStatus": "INLINED_IN_TREE",
       "results": null,
       "showCommandTitle": false,
       "startTime": 0,
       "state": "input",
       "streamStates": {},
       "subcommandOptions": {
        "queryPlan": {
         "groups": [
          {
           "column": "currentOddsDate",
           "type": "column"
          }
         ],
         "selects": [
          {
           "column": "currentOddsDate",
           "type": "column"
          },
          {
           "alias": "column_4bf9c861409",
           "args": [
            {
             "column": "*",
             "type": "column"
            }
           ],
           "function": "COUNT",
           "type": "function"
          }
         ]
        }
       },
       "submitTime": 0,
       "subtype": "tableResultSubCmd.visualization",
       "tableResultIndex": 0,
       "tableResultSettingsMap": {},
       "useConsistentColors": false,
       "version": "CommandV1",
       "width": "auto",
       "workflows": null,
       "xColumns": null,
       "yColumns": null
      }
     },
     "output_type": "display_data"
    }
   ],
   "source": [
    "df_2024 = pd.read_csv('/Volumes/nhl-databricks/data/betting/2024_odds.csv')\n",
    "# column rename gameId to gameid\n",
    "df_2024.rename(columns={'gameId': 'gameid'}, inplace=True)\n",
    "# Currentoddsdate to datetime\n",
    "df_2024['currentOddsDate'] = pd.to_datetime(df_2024['currentOddsDate'])\n",
    "# only keep MONEY_LINE_2_WAY\n",
    "df_2024 = df_2024[\n",
    "    df_2024['odds_description'] == 'MONEY_LINE_2_WAY'\n",
    "]\n",
    "\n",
    "df_2024.display()"
   ]
  },
  {
   "cell_type": "code",
   "execution_count": 0,
   "metadata": {
    "application/vnd.databricks.v1+cell": {
     "cellMetadata": {
      "byteLimit": 2048000,
      "rowLimit": 10000
     },
     "inputWidgets": {},
     "nuid": "917c913c-456a-4a9f-8745-dfeb3cb0ab0c",
     "showTitle": false,
     "tableResultSettingsMap": {},
     "title": ""
    }
   },
   "outputs": [],
   "source": [
    "\n",
    "# pull the gamelist data\n",
    "df_game_2024 = pd.read_csv('/Volumes/nhl-databricks/data/box/2024_box.csv')\n",
    "\n",
    "# merge the two dataframes\n",
    "df_2024 = df_2024.merge(\n",
    "    df_game_2024, on=['gameid'], how='inner'\n",
    ")\n",
    "\n",
    "df_2024.display()"
   ]
  },
  {
   "cell_type": "code",
   "execution_count": 0,
   "metadata": {
    "application/vnd.databricks.v1+cell": {
     "cellMetadata": {
      "byteLimit": 2048000,
      "rowLimit": 10000
     },
     "inputWidgets": {},
     "nuid": "84bbc664-81ca-4896-8129-6008da5f027c",
     "showTitle": false,
     "tableResultSettingsMap": {},
     "title": ""
    }
   },
   "outputs": [],
   "source": [
    "df_new = df_2024[\n",
    "    [\n",
    "        'gameid', 'time_start', 'tricode_for', 'tricode_against', \n",
    "        'home_odds_value', 'away_odds_value', 'metric_score_for', 'metric_score_against',\n",
    "        'period_ending', 'tricode_winteam'\n",
    "    ]\n",
    "]"
   ]
  },
  {
   "cell_type": "markdown",
   "metadata": {
    "application/vnd.databricks.v1+cell": {
     "cellMetadata": {},
     "inputWidgets": {},
     "nuid": "2a3d0d71-a19f-4575-ac86-58287caf4f85",
     "showTitle": false,
     "tableResultSettingsMap": {},
     "title": ""
    }
   },
   "source": [
    "# Merge with the old data and create the table\n",
    "Create table in the Unity Catalog\n"
   ]
  },
  {
   "cell_type": "code",
   "execution_count": 0,
   "metadata": {
    "application/vnd.databricks.v1+cell": {
     "cellMetadata": {
      "byteLimit": 2048000,
      "rowLimit": 10000
     },
     "inputWidgets": {},
     "nuid": "11324c8a-3cf1-46b9-8e52-092ca9a32650",
     "showTitle": false,
     "tableResultSettingsMap": {
      "0": {
       "dataGridStateBlob": "{\"version\":1,\"tableState\":{\"columnPinning\":{\"left\":[\"#row_number#\"],\"right\":[]},\"columnSizing\":{},\"columnVisibility\":{}},\"settings\":{\"columns\":{}},\"syncTimestamp\":1759016742302}",
       "filterBlob": null,
       "queryPlanFiltersBlob": null,
       "tableResultIndex": 0
      }
     },
     "title": ""
    }
   },
   "outputs": [],
   "source": [
    "# Ensure 'date' columns are datetime in both DataFrames before concatenation\n",
    "#df_legacy['date'] = pd.to_datetime(df_legacy['date'])\n",
    "#df_new['date'] = pd.to_datetime(df_new['date'])\n",
    "\n",
    "# Concatenate using pandas\n",
    "df_package = pd.concat(\n",
    "    [df_legacy, df_new],\n",
    "    axis=0\n",
    ").reset_index(drop=True)\n",
    "\n",
    "df_package['time_start'] = pd.to_datetime(df_package['time_start'], errors='coerce')\n",
    "\n",
    "df_package.display()"
   ]
  },
  {
   "cell_type": "code",
   "execution_count": 0,
   "metadata": {
    "application/vnd.databricks.v1+cell": {
     "cellMetadata": {
      "byteLimit": 2048000,
      "rowLimit": 10000
     },
     "inputWidgets": {},
     "nuid": "d3976c99-92d4-4ab0-832f-01b7e705736d",
     "showTitle": false,
     "tableResultSettingsMap": {},
     "title": ""
    }
   },
   "outputs": [],
   "source": [
    "# Save as a table with column comments using SQL struct definition\n",
    "spark.sql(\"\"\"\n",
    "CREATE OR REPLACE TABLE `nhl-databricks`.data.odds (\n",
    "    gameid DOUBLE COMMENT 'Unique game identifier',\n",
    "    time_start TIMESTAMP COMMENT 'Game start time (UTC)',\n",
    "    tricode_for STRING COMMENT 'Tricode for the home team',\n",
    "    tricode_against STRING COMMENT 'Tricode for the away/opposing team',\n",
    "    home_odds_value DOUBLE COMMENT 'Home team money line odds (2-way)',\n",
    "    away_odds_value DOUBLE COMMENT 'Away team money line odds (2-way)',\n",
    "    metric_score_for INT COMMENT 'Final score for the home team',\n",
    "    metric_score_against INT COMMENT 'Final score for the away team',\n",
    "    period_ending STRING COMMENT 'Game period when the game ended (REG, OT, SO)',\n",
    "    tricode_winteam STRING COMMENT 'Tricode of the winning team'\n",
    ")\n",
    "\"\"\")\n",
    "\n",
    "spark.createDataFrame(df_package).write.mode('overwrite').insertInto('`nhl-databricks`.data.odds')"
   ]
  }
 ],
 "metadata": {
  "application/vnd.databricks.v1+notebook": {
   "computePreferences": null,
   "dashboards": [],
   "environmentMetadata": {
    "base_environment": "",
    "environment_version": "3"
   },
   "inputWidgetPreferences": null,
   "language": "python",
   "notebookMetadata": {
    "pythonIndentUnit": 4
   },
   "notebookName": "db_uc_bet_old",
   "widgets": {}
  },
  "language_info": {
   "name": "python"
  }
 },
 "nbformat": 4,
 "nbformat_minor": 0
}
